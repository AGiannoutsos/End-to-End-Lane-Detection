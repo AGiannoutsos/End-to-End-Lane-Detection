{
  "nbformat": 4,
  "nbformat_minor": 0,
  "metadata": {
    "colab": {
      "name": "canny_endge_detector.ipynb",
      "provenance": [],
      "collapsed_sections": [
        "-nqaRk_lT0ZE",
        "HyUzlPS9TrHk",
        "1xz4LxO3il2r",
        "-AZCJMlgpVGr",
        "upTUUeN-YCW1",
        "ZfF9bqvkpiST",
        "_pV8_BzWlpLd",
        "brOupfLbWyQ6",
        "5N7etXQRS2t_",
        "owt-h0usSrUE",
        "-fdyVIf7hiDW",
        "EemFGYo6BbPB",
        "QX8PF58jBztd"
      ]
    },
    "kernelspec": {
      "display_name": "Python 3",
      "name": "python3"
    }
  },
  "cells": [
    {
      "cell_type": "markdown",
      "metadata": {
        "id": "-nqaRk_lT0ZE"
      },
      "source": [
        "## Imports and libraries installation"
      ]
    },
    {
      "cell_type": "code",
      "metadata": {
        "id": "uDaKuzLJY96E"
      },
      "source": [
        "%%capture\n",
        "import os\n",
        "import cv2 \n",
        "import ast\n",
        "import time\n",
        "import json\n",
        "import glob\n",
        "import numpy as np\n",
        "from PIL import Image\n",
        "import matplotlib.pyplot as plt\n",
        "from google.colab.patches import cv2_imshow\n",
        "\n",
        "import torch\n",
        "import torchvision\n",
        "import torch.nn as nn\n",
        "from torch.utils.data import DataLoader\n",
        "\n",
        "# install libraries\n",
        "!pip install wandb -qqq\n",
        "import wandb\n",
        "!pip install -U git+https://github.com/qubvel/segmentation_models.pytorch\n",
        "import segmentation_models_pytorch as smp"
      ],
      "execution_count": 1,
      "outputs": []
    },
    {
      "cell_type": "markdown",
      "metadata": {
        "id": "Qb3Lv-VbvpEq"
      },
      "source": [
        "## Install custom scripts"
      ]
    },
    {
      "cell_type": "code",
      "metadata": {
        "id": "-xaJJg-Ete7w"
      },
      "source": [
        "!git clone https://github.com/AGiannoutsos/End-to-End-Lane-Detection\n",
        "%cd End-to-End-Lane-Detection\n",
        "\n",
        "from scripts.wandb_util import *\n",
        "from scripts.visualization import *\n",
        "from scripts.dataset import *\n",
        "from scripts.classic_line_detector import *"
      ],
      "execution_count": null,
      "outputs": []
    },
    {
      "cell_type": "markdown",
      "metadata": {
        "id": "TR7H7QmnNa6B"
      },
      "source": [
        "## Download, load, transform and save data images (done once)"
      ]
    },
    {
      "cell_type": "code",
      "metadata": {
        "id": "tZPKzpnBkEjD"
      },
      "source": [
        "# Download TUsimple dataset\n",
        "download_TUsimple_dataset(\"train\")\n",
        "\n",
        "# Load and transform images and labels for classic lane detector\n",
        "train_dataset = Dataset(\"train_set\", (256,256))"
      ],
      "execution_count": null,
      "outputs": []
    },
    {
      "cell_type": "markdown",
      "metadata": {
        "id": "SsYNPXdzfDEm"
      },
      "source": [
        "## Classic detector results"
      ]
    },
    {
      "cell_type": "markdown",
      "metadata": {
        "id": "FGq15ZrPTPFa"
      },
      "source": [
        "## Set the detectors"
      ]
    },
    {
      "cell_type": "code",
      "metadata": {
        "id": "m5uuQeUyTUFI"
      },
      "source": [
        "detectors = [Classic_Line_Detector(10, 50, 7),\n",
        "             Classic_Line_Detector(10, 100, 7),\n",
        "             Classic_Line_Detector(10, 150, 7),\n",
        "             \n",
        "             Classic_Line_Detector(30, 50, 7),\n",
        "             Classic_Line_Detector(30, 100, 7),\n",
        "             Classic_Line_Detector(30, 150, 7),\n",
        "             \n",
        "             Classic_Line_Detector(50, 50, 7),\n",
        "             Classic_Line_Detector(50, 100, 7),\n",
        "             Classic_Line_Detector(50, 150, 7)]\n",
        "\n",
        "texts = [detect.title for detect in detectors]"
      ],
      "execution_count": 5,
      "outputs": []
    },
    {
      "cell_type": "markdown",
      "metadata": {
        "id": "ErWyY8pPTXrF"
      },
      "source": [
        "## Create grid videos"
      ]
    },
    {
      "cell_type": "code",
      "metadata": {
        "id": "X1MwHMY0wKsz"
      },
      "source": [
        "grid_video_detector_creator(\"video_canny_grid_gk7\",\n",
        "                  detectors,\n",
        "                  texts,\n",
        "                  train_dataset, \n",
        "                  70000, \n",
        "                  200,\n",
        "                  grid=(3,3), \n",
        "                  labels=False, \n",
        "                  fps=24, \n",
        "                  overlay_opacity=0.2)"
      ],
      "execution_count": 6,
      "outputs": []
    },
    {
      "cell_type": "markdown",
      "metadata": {
        "id": "kyUWrP4OTauc"
      },
      "source": [
        "## Create grid images"
      ]
    },
    {
      "cell_type": "code",
      "metadata": {
        "id": "caY1tiFbNr3r"
      },
      "source": [
        "for i in range(3):\n",
        "    grid_image_detector_creator(\"image\"+str(i)+\"_canny_grid_gk5.jpg\",\n",
        "                  detectors,\n",
        "                  texts,\n",
        "                  train_dataset, \n",
        "                  np.random.randint(len(train_dataset)), \n",
        "                  grid=(3,3), \n",
        "                  labels=False, \n",
        "                  fps=24, \n",
        "                  overlay_opacity=0.2)"
      ],
      "execution_count": 10,
      "outputs": []
    },
    {
      "cell_type": "code",
      "metadata": {
        "id": "KpaFeWrjjD3M"
      },
      "source": [
        "from moviepy.editor import *\n",
        "path = \"video_canny_grid_gk7.avi\" \n",
        "clip=VideoFileClip(path)\n",
        "clip.ipython_display(width=512)"
      ],
      "execution_count": null,
      "outputs": []
    }
  ]
}