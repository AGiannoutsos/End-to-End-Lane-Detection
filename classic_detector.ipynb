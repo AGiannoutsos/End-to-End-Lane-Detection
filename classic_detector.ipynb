{
  "nbformat": 4,
  "nbformat_minor": 0,
  "metadata": {
    "colab": {
      "name": "canny_endge_detector.ipynb",
      "provenance": [],
      "collapsed_sections": [],
      "toc_visible": true
    },
    "kernelspec": {
      "display_name": "Python 3",
      "name": "python3"
    }
  },
  "cells": [
    {
      "cell_type": "markdown",
      "metadata": {
        "id": "-nqaRk_lT0ZE"
      },
      "source": [
        "## Imports and libraries installation"
      ]
    },
    {
      "cell_type": "code",
      "metadata": {
        "id": "uDaKuzLJY96E"
      },
      "source": [
        "%%capture\n",
        "import os\n",
        "import cv2 \n",
        "import ast\n",
        "import time\n",
        "import json\n",
        "import glob\n",
        "import numpy as np\n",
        "from PIL import Image\n",
        "import matplotlib.pyplot as plt\n",
        "from google.colab.patches import cv2_imshow\n",
        "\n",
        "import torch\n",
        "import torchvision\n",
        "import torch.nn as nn\n",
        "from torch.utils.data import DataLoader\n",
        "\n",
        "# install libraries\n",
        "!pip install wandb -qqq\n",
        "import wandb\n",
        "!pip install -U git+https://github.com/qubvel/segmentation_models.pytorch\n",
        "import segmentation_models_pytorch as smp"
      ],
      "execution_count": 1,
      "outputs": []
    },
    {
      "cell_type": "markdown",
      "metadata": {
        "id": "Qb3Lv-VbvpEq"
      },
      "source": [
        "## Install custom scripts"
      ]
    },
    {
      "cell_type": "code",
      "metadata": {
        "id": "-xaJJg-Ete7w"
      },
      "source": [
        "!git clone https://github.com/AGiannoutsos/End-to-End-Lane-Detection\n",
        "%cd End-to-End-Lane-Detection"
      ],
      "execution_count": null,
      "outputs": []
    },
    {
      "cell_type": "markdown",
      "metadata": {
        "id": "HyUzlPS9TrHk"
      },
      "source": [
        "## Weights and biases initialization"
      ]
    },
    {
      "cell_type": "code",
      "metadata": {
        "id": "bxY32OCuTvTp"
      },
      "source": [
        "import wandb\n",
        "os.environ[\"WANDB_ENTITY\"]  = \"andreas_giannoutsos\"\n",
        "os.environ[\"WANDB_PROJECT\"] = \"lane_detection\"\n",
        "os.environ[\"WANDB_RESUME\"]  = \"allow\"\n",
        "from scripts.wandb_util import *"
      ],
      "execution_count": 3,
      "outputs": []
    },
    {
      "cell_type": "markdown",
      "metadata": {
        "id": "-AZCJMlgpVGr"
      },
      "source": [
        "## Dataset api from the stored files in the hardrive to arrays with label images"
      ]
    },
    {
      "cell_type": "code",
      "metadata": {
        "id": "ITtqPEEWYGyO"
      },
      "source": [
        "from scripts.dataset import *"
      ],
      "execution_count": 4,
      "outputs": []
    },
    {
      "cell_type": "markdown",
      "metadata": {
        "id": "ZfF9bqvkpiST"
      },
      "source": [
        "## Fuctions that store a video clip from the given images"
      ]
    },
    {
      "cell_type": "code",
      "metadata": {
        "id": "6ELMUleagdB5"
      },
      "source": [
        "from scripts.visualization import *"
      ],
      "execution_count": 5,
      "outputs": []
    },
    {
      "cell_type": "markdown",
      "metadata": {
        "id": "qyZCOzOQMKlB"
      },
      "source": [
        "## Classic Line Detector"
      ]
    },
    {
      "cell_type": "code",
      "metadata": {
        "id": "sQj36_JLgIao"
      },
      "source": [
        "from scripts.classic_line_detector import *"
      ],
      "execution_count": 6,
      "outputs": []
    },
    {
      "cell_type": "markdown",
      "metadata": {
        "id": "TR7H7QmnNa6B"
      },
      "source": [
        "## Download, load, transform and save data images (done once)"
      ]
    },
    {
      "cell_type": "code",
      "metadata": {
        "id": "tZPKzpnBkEjD"
      },
      "source": [
        "Download TUsimple dataset\n",
        "download_TUsimple_dataset(\"test\")\n",
        "\n",
        "# remove \"\\\" from the paths on the json fine\n",
        "import fileinput\n",
        "with fileinput.FileInput(\"test_set/test_tasks_0627.json\", inplace=True, backup='.bak') as file:\n",
        "    for line in file:\n",
        "        print(line.replace('\\\\', \"\"), end='')\n",
        "\n",
        "# Load and transform images and labels for classic lane detector\n",
        "test_dataset = Dataset(\"test_set\", (128,128), 10000)"
      ],
      "execution_count": null,
      "outputs": []
    },
    {
      "cell_type": "markdown",
      "metadata": {
        "id": "SsYNPXdzfDEm"
      },
      "source": [
        "## Classic detector results"
      ]
    },
    {
      "cell_type": "markdown",
      "metadata": {
        "id": "FGq15ZrPTPFa"
      },
      "source": [
        "## Set the detectors"
      ]
    },
    {
      "cell_type": "code",
      "metadata": {
        "id": "m5uuQeUyTUFI"
      },
      "source": [
        "detectors = [Classic_Line_Detector(10, 50, 7),\n",
        "             Classic_Line_Detector(10, 100, 7),\n",
        "             Classic_Line_Detector(10, 150, 7),\n",
        "             \n",
        "             Classic_Line_Detector(30, 50, 7),\n",
        "             Classic_Line_Detector(30, 100, 7),\n",
        "             Classic_Line_Detector(30, 150, 7),\n",
        "             \n",
        "             Classic_Line_Detector(50, 50, 7),\n",
        "             Classic_Line_Detector(50, 100, 7),\n",
        "             Classic_Line_Detector(50, 150, 7)]\n",
        "\n",
        "texts = [detect.title for detect in detectors]"
      ],
      "execution_count": 80,
      "outputs": []
    },
    {
      "cell_type": "markdown",
      "metadata": {
        "id": "ErWyY8pPTXrF"
      },
      "source": [
        "## Create grid videos"
      ]
    },
    {
      "cell_type": "code",
      "metadata": {
        "id": "X1MwHMY0wKsz"
      },
      "source": [
        "%%capture\n",
        "np.seterr(all=\"ignore\")\n",
        "grid_video_detector_creator(\"video_canny_grid_gk7\",\n",
        "                  detectors,\n",
        "                  texts,\n",
        "                  test_dataset, \n",
        "                  0, \n",
        "                  300,\n",
        "                  grid=(3,3), \n",
        "                  labels=False, \n",
        "                  fps=24, \n",
        "                  overlay_opacity=0.2)"
      ],
      "execution_count": 85,
      "outputs": []
    },
    {
      "cell_type": "markdown",
      "metadata": {
        "id": "kyUWrP4OTauc"
      },
      "source": [
        "## Create grid images"
      ]
    },
    {
      "cell_type": "code",
      "metadata": {
        "id": "caY1tiFbNr3r"
      },
      "source": [
        "%%capture\n",
        "np.seterr(all=\"ignore\")\n",
        "for i in range(10):\n",
        "    grid_image_detector_creator(\"image\"+str(i)+\"_canny_grid_gk5.jpg\",\n",
        "                  detectors,\n",
        "                  texts,\n",
        "                  test_dataset, \n",
        "                  np.random.randint(len(test_dataset)), \n",
        "                  grid=(3,3), \n",
        "                  labels=False, \n",
        "                  fps=24, \n",
        "                  overlay_opacity=0.2)"
      ],
      "execution_count": 84,
      "outputs": []
    },
    {
      "cell_type": "code",
      "metadata": {
        "id": "KpaFeWrjjD3M"
      },
      "source": [
        "from moviepy.editor import *\n",
        "path = \"video_canny_grid_gk7.avi\" \n",
        "clip=VideoFileClip(path)\n",
        "clip.ipython_display(width=512)"
      ],
      "execution_count": null,
      "outputs": []
    }
  ]
}